{
 "cells": [
  {
   "cell_type": "code",
   "execution_count": 1,
   "id": "9b7f7a61",
   "metadata": {},
   "outputs": [
    {
     "name": "stderr",
     "output_type": "stream",
     "text": [
      "C:\\Users\\jblee\\AppData\\Local\\Temp/ipykernel_14888/671448046.py:12: DeprecationWarning: `import kerastuner` is deprecated, please use `import keras_tuner`.\n",
      "  from kerastuner import HyperModel, Hyperband\n"
     ]
    }
   ],
   "source": [
    "import matplotlib.pyplot as plt\n",
    "import os\n",
    "import shutil\n",
    "import zipfile\n",
    "import glob\n",
    "import cv2\n",
    "import tensorflow as tf\n",
    "import numpy as np\n",
    "import pandas as pd\n",
    "import random\n",
    "\n",
    "from kerastuner import HyperModel, Hyperband"
   ]
  },
  {
   "cell_type": "code",
   "execution_count": 2,
   "id": "4a0ea944",
   "metadata": {},
   "outputs": [],
   "source": [
    "tf.random.set_seed(0)\n",
    "os.environ[\"CUDA_VISIBLE_DEVICES\"] = \"0\""
   ]
  },
  {
   "cell_type": "code",
   "execution_count": 3,
   "id": "59e172a3",
   "metadata": {},
   "outputs": [],
   "source": [
    "# zip파일 경로 설정\n",
    "data_zip_dir = 'D:/worksapce/DAT/'\n",
    "train_zip_dir = 'D:/worksapce/DAT/' + 'train.zip'\n",
    "test_zip_dir  = 'D:/worksapce/DAT/' + 'test.zip'"
   ]
  },
  {
   "cell_type": "markdown",
   "id": "74edf888",
   "metadata": {},
   "source": [
    "### 데이터 폴더 생성"
   ]
  },
  {
   "cell_type": "code",
   "execution_count": 4,
   "id": "95a2e89b",
   "metadata": {},
   "outputs": [],
   "source": [
    "# # 압축해제\n",
    "# with zipfile.ZipFile(train_zip_dir, 'r') as z:\n",
    "#     z.extractall(data_zip_dir)\n",
    "# with zipfile.ZipFile(test_zip_dir, 'r') as z:\n",
    "#     z.extractall(data_zip_dir)"
   ]
  },
  {
   "cell_type": "code",
   "execution_count": 5,
   "id": "bc1d14c2",
   "metadata": {},
   "outputs": [],
   "source": [
    "# train_dir = data_zip_dir + 'train'\n",
    "# test_dir = data_zip_dir + 'test1'"
   ]
  },
  {
   "cell_type": "code",
   "execution_count": 6,
   "id": "cbc9182e",
   "metadata": {},
   "outputs": [],
   "source": [
    "# # train set 생성\n",
    "# train_cat_dir = data_zip_dir + 'cnn/train_set/' + \"cat\"\n",
    "# train_dog_dir = data_zip_dir + 'cnn/train_set/' + \"dog\"\n",
    "\n",
    "# os.makedirs(train_cat_dir, exist_ok=True)\n",
    "# os.makedirs(train_dog_dir, exist_ok=True)\n",
    "\n",
    "# # valid set 생성\n",
    "# valid_cat_dir = data_zip_dir + 'cnn/valid_set/' + \"cat\"\n",
    "# valid_dog_dir = data_zip_dir + 'cnn/valid_set/' + \"dog\"\n",
    "\n",
    "# os.makedirs(valid_cat_dir, exist_ok=True)\n",
    "# os.makedirs(valid_dog_dir, exist_ok=True)\n",
    "\n",
    "# # test set 생성\n",
    "# test_cat_dir = data_zip_dir + 'cnn/test_set/' + \"cat\"\n",
    "# test_dog_dir = data_zip_dir + 'cnn/test_set/' + \"dog\"\n",
    "\n",
    "# os.makedirs(test_cat_dir, exist_ok=True)\n",
    "# os.makedirs(test_dog_dir, exist_ok=True)"
   ]
  },
  {
   "cell_type": "code",
   "execution_count": 7,
   "id": "26498cee",
   "metadata": {},
   "outputs": [],
   "source": [
    "# train_cat_file_names = [s for s in os.listdir(train_dir) if 'cat' in s]\n",
    "# train_dog_file_names = [s for s in os.listdir(train_dir) if 'dog' in s]\n",
    "\n",
    "# test_cat_file_names = [s for s in os.listdir(test_dir) if 'cat' in s]\n",
    "# test_dog_file_names = [s for s in os.listdir(test_dir) if 'dog' in s]"
   ]
  },
  {
   "cell_type": "code",
   "execution_count": 8,
   "id": "c815ae74",
   "metadata": {},
   "outputs": [],
   "source": [
    "# # train set 옮기기\n",
    "# for i in [str(s) + '.jpg' for s in range(1000)] :\n",
    "    \n",
    "#     src_cat = train_dir + '/cat.' + i\n",
    "#     dst_cat = train_cat_dir + '/cat.' + i\n",
    "    \n",
    "#     src_dog = train_dir + '/dog.' + i\n",
    "#     dst_dog = train_dog_dir + '/dog.' + i\n",
    "    \n",
    "#     shutil.move(src_cat, dst_cat)\n",
    "#     shutil.move(src_dog, dst_dog)\n",
    "\n",
    "# # valid set 옮기기\n",
    "# for i in [str(s) + '.jpg' for s in range(1000,1200)] :\n",
    "    \n",
    "#     src_cat = train_dir + '/cat.' + i\n",
    "#     dst_cat = valid_cat_dir + '/cat.' + i\n",
    "    \n",
    "#     src_dog = train_dir + '/dog.' + i\n",
    "#     dst_dog = valid_dog_dir + '/dog.' + i\n",
    "    \n",
    "#     shutil.move(src_cat, dst_cat)\n",
    "#     shutil.move(src_dog, dst_dog)\n",
    "\n",
    "# # test set 옮기기\n",
    "# for i in [str(s) + '.jpg' for s in range(1200,1300)] :\n",
    "    \n",
    "#     src_cat = train_dir + '/cat.' + i\n",
    "#     dst_cat = test_cat_dir + '/cat.' + i\n",
    "    \n",
    "#     src_dog = train_dir + '/dog.' + i\n",
    "#     dst_dog = test_dog_dir + '/dog.' + i\n",
    "    \n",
    "#     shutil.move(src_cat, dst_cat)\n",
    "#     shutil.move(src_dog, dst_dog)\n",
    "\n"
   ]
  },
  {
   "cell_type": "markdown",
   "id": "edf9515e",
   "metadata": {},
   "source": [
    "### 데이터 불러오기"
   ]
  },
  {
   "cell_type": "code",
   "execution_count": 9,
   "id": "4099574f",
   "metadata": {},
   "outputs": [],
   "source": [
    "# 데이터 불러오기\n",
    "category = ['cat','dog']\n",
    "\n",
    "# =======================\n",
    "# train\n",
    "# =======================\n",
    "training_data = list()\n",
    "for ctgry_ind in category:\n",
    "    \n",
    "    ctgry_ind_dir_root = 'D:/worksapce/DAT/cnn/train_set/' + ctgry_ind\n",
    "    class_num = category.index(ctgry_ind)\n",
    "\n",
    "    for img in os.listdir(ctgry_ind_dir_root) :\n",
    "        img_array = cv2.imread(ctgry_ind_dir_root+ '/' + img)\n",
    "        new_array = cv2.resize(img_array, (150, 150))\n",
    "        training_data.append([new_array, class_num])\n",
    "\n",
    "random.seed(1234)\n",
    "random.shuffle(training_data)\n",
    "\n",
    "TRAIN_X = []\n",
    "TRAIN_Y = []\n",
    "\n",
    "for features, label in training_data:\n",
    "    TRAIN_X.append(features)\n",
    "    TRAIN_Y.append(label)    \n",
    "\n",
    "TRAIN_X = np.array(TRAIN_X).reshape(len(TRAIN_X), 150, 150 ,3)\n",
    "TRAIN_Y = np.array(TRAIN_Y)\n",
    "\n",
    "\n",
    "\n",
    "# =======================\n",
    "# valid\n",
    "# =======================\n",
    "valid_data = list()\n",
    "for ctgry_ind in category:\n",
    "    \n",
    "    ctgry_ind_dir_root = 'D:/worksapce/DAT/cnn/valid_set/' + ctgry_ind\n",
    "    class_num = category.index(ctgry_ind)\n",
    "\n",
    "    for img in os.listdir(ctgry_ind_dir_root) :\n",
    "        img_array = cv2.imread(ctgry_ind_dir_root+ '/' + img)\n",
    "        new_array = cv2.resize(img_array, (150, 150))\n",
    "        valid_data.append([new_array, class_num])\n",
    "\n",
    "random.seed(1234)\n",
    "random.shuffle(valid_data)\n",
    "\n",
    "VALID_X = []\n",
    "VALID_Y = []\n",
    "\n",
    "for features, label in valid_data:\n",
    "    VALID_X.append(features)\n",
    "    VALID_Y.append(label)    \n",
    "\n",
    "VALID_X = np.array(VALID_X).reshape(len(VALID_X), 150, 150 ,3)\n",
    "VALID_Y = np.array(VALID_Y)\n",
    "\n",
    "\n",
    "# =======================\n",
    "# test\n",
    "# =======================\n",
    "test_data = list()\n",
    "for ctgry_ind in category:\n",
    "    \n",
    "    ctgry_ind_dir_root = 'D:/worksapce/DAT/cnn/test_set/' + ctgry_ind\n",
    "    class_num = category.index(ctgry_ind)\n",
    "\n",
    "    for img in os.listdir(ctgry_ind_dir_root) :\n",
    "        img_array = cv2.imread(ctgry_ind_dir_root+ '/' + img)\n",
    "        new_array = cv2.resize(img_array, (150, 150))\n",
    "        test_data.append([new_array, class_num])\n",
    "\n",
    "random.seed(1234)\n",
    "random.shuffle(test_data)\n",
    "\n",
    "TEST_X = []\n",
    "TEST_Y = []\n",
    "\n",
    "for features, label in test_data:\n",
    "    TEST_X.append(features)\n",
    "    TEST_Y.append(label)    \n",
    "\n",
    "TEST_X = np.array(TEST_X).reshape(len(TEST_X), 150, 150 ,3)\n",
    "TEST_Y = np.array(TEST_Y)"
   ]
  },
  {
   "cell_type": "code",
   "execution_count": 10,
   "id": "3cbedca7",
   "metadata": {},
   "outputs": [],
   "source": [
    "# scailing\n",
    "TRAIN_X = tf.convert_to_tensor(TRAIN_X, dtype=tf.float32) / 255.\n",
    "VALID_X = tf.convert_to_tensor(VALID_X, dtype=tf.float32) / 255.\n",
    "TEST_X = tf.convert_to_tensor(TEST_X, dtype=tf.float32) / 255."
   ]
  },
  {
   "cell_type": "markdown",
   "id": "1b2b62b9",
   "metadata": {},
   "source": [
    "### CNN Hyper Model Class 생성"
   ]
  },
  {
   "cell_type": "code",
   "execution_count": 11,
   "id": "8be0f920",
   "metadata": {},
   "outputs": [],
   "source": [
    "# =========================================\n",
    "# CNN HyperModel Class\n",
    "# =========================================\n",
    "\n",
    "class CNN_Model(HyperModel) :\n",
    "    \n",
    "    def __init__ (self, Shape):\n",
    "        self.Shape = Shape\n",
    "\n",
    "    def build(self, hp):\n",
    "        \n",
    "        model = tf.keras.Sequential()\n",
    "        model.add(tf.keras.layers.Conv2D(32, kernel_size = hp.Choice('kernel_0', values = [3, 5])\n",
    "                                         , padding='same'\n",
    "                                         , input_shape = self.Shape))\n",
    "        model.add(tf.keras.layers.BatchNormalization())\n",
    "        model.add(tf.keras.layers.Activation('relu'))\n",
    "\n",
    "        for i,conv_filter in zip([1,2],[64,128]):\n",
    "            model.add(tf.keras.layers.Conv2D(conv_filter, kernel_size = hp.Choice('kernel_{}'.format(i), values = [3, 5])\n",
    "                                             , padding='same'))\n",
    "            model.add(tf.keras.layers.BatchNormalization())\n",
    "            model.add(tf.keras.layers.Activation('relu'))\n",
    "            model.add(tf.keras.layers.MaxPooling2D(pool_size= hp.Choice('maxpool_{}'.format(i), values = [2])))\n",
    "\n",
    "        model.add(tf.keras.layers.Flatten())\n",
    "\n",
    "        for dense in [128,64]:\n",
    "            model.add(tf.keras.layers.Dense(dense, activation = 'relu'))\n",
    "        model.add(tf.keras.layers.Dropout(hp.Choice('dropout', values = [0.1])))\n",
    "        model.add(tf.keras.layers.Dense(1, activation='sigmoid'))\n",
    "        model.compile(optimizer=tf.keras.optimizers.Adadelta(1e-3),loss='binary_crossentropy',metrics='acc')\n",
    "        \n",
    "        return model"
   ]
  },
  {
   "cell_type": "code",
   "execution_count": 12,
   "id": "c5103d27",
   "metadata": {},
   "outputs": [],
   "source": [
    "# ============================================\n",
    "# CnnHyperband : batch_size 튜닝 추가\n",
    "# ============================================\n",
    "class CnnHyperband(Hyperband):\n",
    "    \"\"\"\n",
    "    Hyperband 서브 클래스\n",
    "    \"\"\"\n",
    "    def run_trial(self, trial, *args, **kwargs):\n",
    "        kwargs['batch_size'] = trial.hyperparameters.Choice('batch_size', values = [2**x for x in range(2,3)])\n",
    "        return super().run_trial(trial,*args,**kwargs)"
   ]
  },
  {
   "cell_type": "code",
   "execution_count": 13,
   "id": "1ea7e85d",
   "metadata": {},
   "outputs": [],
   "source": [
    "class CNN_TRAIN(object):\n",
    "    \n",
    "    def __init__ (self, Train_CNN_y, Train_CNN_x, Valid_CNN_y, Valid_CNN_x, Shape, Patience , epochs, model_num):\n",
    "        \n",
    "        self.Train_CNN_y = Train_CNN_y\n",
    "        self.Train_CNN_x = Train_CNN_x\n",
    "        self.Valid_CNN_y = Valid_CNN_y\n",
    "        self.Valid_CNN_x = Valid_CNN_x\n",
    "        self.Shape       = Shape\n",
    "        self.Patience    = Patience\n",
    "        self.epochs      = epochs\n",
    "        self.model_num   = model_num\n",
    "        self.cnn_train()\n",
    "                \n",
    "    def cnn_train(self):\n",
    "        \n",
    "        # 폴더 삭제\n",
    "        shutil.rmtree('D:/workspace/OUT/best_model_cnn/best_model_cnn_{}.h5'.format(self.model_num),ignore_errors=True)\n",
    "        shutil.rmtree('D:/worksapce/OUT/hyper_model_cnn/'+'cnn_{}'.format(self.model_num),ignore_errors=True)\n",
    "        \n",
    "        # Hyperband tuner setting\n",
    "        tuner = CnnHyperband(CNN_Model(self.Shape),\n",
    "                             objective = 'val_loss', \n",
    "                             max_epochs = 5,\n",
    "                             factor = 3,\n",
    "                             directory = 'D:/worksapce/OUT/hyper_model_cnn',\n",
    "                             project_name = 'cnn_{}'.format(self.model_num),\n",
    "                             overwrite = True)\n",
    "        \n",
    "\n",
    "        # tuner Serach\n",
    "        tuner.search(self.Train_CNN_x, self.Train_CNN_y, epochs = self.epochs\n",
    "                     , validation_data = (self.Valid_CNN_x, self.Valid_CNN_y)\n",
    "                     , verbose = 2)\n",
    "\n",
    "        # Get the optimal hyperparameters\n",
    "        self.best_hps = tuner.get_best_hyperparameters(num_trials = 1)[0]\n",
    "        \n",
    "        # Build the model with the optimal hyperparameters and train it on the data\n",
    "        self.cnn_model = tuner.hypermodel.build(self.best_hps)\n",
    "        \n",
    "        # Early Stopping \n",
    "        \"\"\"\n",
    "        - restore_best_weights -\n",
    "        Whether to restore model weights from the epoch with the best value of the monitored quantity.\n",
    "        If False, the model weights obtained at the last step of training are used\n",
    "        \"\"\"\n",
    "        EarlyStopping = tf.keras.callbacks.EarlyStopping(monitor = 'val_loss', mode = 'min', patience = self.Patience,\n",
    "                                                         restore_best_weights=True, verbose = 1) \n",
    "        \n",
    "        # reduce_lr\n",
    "        reduce_lr = tf.keras.callbacks.ReduceLROnPlateau(monitor='val_loss', factor=0.8, patience=10, verbose=0, mode='min', min_lr=1e-5)\n",
    "        \n",
    "        # 모델 저장\n",
    "        ModelCheck = tf.keras.callbacks.ModelCheckpoint(filepath = 'D:/workspace/OUT/best_model_cnn/best_model_cnn_{}.h5'.format(self.model_num)\n",
    "                                                        , monitor = 'val_loss'\n",
    "                                                        , mode = 'min'\n",
    "                                                        , save_best_only = True)\n",
    "        # History\n",
    "        history = tf.keras.callbacks.History()\n",
    "        \n",
    "        # 에폭 10까지 학습\n",
    "        self.cnn_model.fit(self.Train_CNN_x, self.Train_CNN_y, epochs = 10, validation_data=(self.Valid_CNN_x, self.Valid_CNN_y)\n",
    "                      , batch_size = self.best_hps['batch_size']\n",
    "                      , verbose=0\n",
    "                      , callbacks = [history])\n",
    "        \n",
    "        \n",
    "        # 에폭 10부터 학습\n",
    "        self.cnn_model.fit(self.Train_CNN_x, self.Train_CNN_y\n",
    "                      , validation_data=(self.Valid_CNN_x, self.Valid_CNN_y)     \n",
    "                      , initial_epoch = 10\n",
    "                      , epochs = self.epochs\n",
    "                      , batch_size = self.best_hps['batch_size']     \n",
    "                      , callbacks = [EarlyStopping, reduce_lr, ModelCheck, history]\n",
    "                      , verbose=0)\n",
    "        \n",
    "        return self.cnn_model\n",
    "        \n"
   ]
  },
  {
   "cell_type": "markdown",
   "id": "3f4e7a9a",
   "metadata": {},
   "source": [
    "### CNN 학습"
   ]
  },
  {
   "cell_type": "code",
   "execution_count": 14,
   "id": "44776694",
   "metadata": {},
   "outputs": [
    {
     "name": "stdout",
     "output_type": "stream",
     "text": [
      "Trial 10 Complete [00h 01m 33s]\n",
      "val_loss: 0.6503953337669373\n",
      "\n",
      "Best val_loss So Far: 0.6268278360366821\n",
      "Total elapsed time: 00h 09m 41s\n",
      "INFO:tensorflow:Oracle triggered exit\n",
      "Restoring model weights from the end of the best epoch: 11.\n",
      "Epoch 00041: early stopping\n"
     ]
    },
    {
     "data": {
      "text/plain": [
       "{'kernel_0': 5,\n",
       " 'kernel_1': 5,\n",
       " 'maxpool_1': 2,\n",
       " 'kernel_2': 5,\n",
       " 'maxpool_2': 2,\n",
       " 'dropout': 0.1,\n",
       " 'batch_size': 4,\n",
       " 'tuner/epochs': 5,\n",
       " 'tuner/initial_epoch': 0,\n",
       " 'tuner/bracket': 0,\n",
       " 'tuner/round': 0}"
      ]
     },
     "execution_count": 14,
     "metadata": {},
     "output_type": "execute_result"
    }
   ],
   "source": [
    "# ============================================\n",
    "# 모델 구조별 Fit\n",
    "# ============================================\n",
    "\n",
    "Shape = (150,150,3)\n",
    "mdl_num = 1\n",
    "\n",
    "# get model\n",
    "cnn_mdl = CNN_TRAIN(TRAIN_Y, TRAIN_X, VALID_Y, VALID_X,Shape, 30 , 100, mdl_num)\n",
    "\n",
    "# get bset epoch & valid loss\n",
    "best_epoch = np.argmin(cnn_mdl.cnn_model.history.history['val_loss'][10:]) + 11\n",
    "vaild_loss = np.min(cnn_mdl.cnn_model.history.history['val_loss'][10:])\n",
    "\n",
    "# best_hps\n",
    "cnn_mdl.best_hps.values"
   ]
  },
  {
   "cell_type": "code",
   "execution_count": 53,
   "id": "e910a1c8",
   "metadata": {},
   "outputs": [
    {
     "data": {
      "text/plain": [
       "<matplotlib.legend.Legend at 0x2b627c37b50>"
      ]
     },
     "execution_count": 53,
     "metadata": {},
     "output_type": "execute_result"
    },
    {
     "data": {
      "image/png": "[encoded data removed]",
      "text/plain": [
       "<Figure size 1512x504 with 1 Axes>"
      ]
     },
     "metadata": {
      "needs_background": "light"
     },
     "output_type": "display_data"
    },
    {
     "data": {
      "image/png": "[encoded data removed]",
      "text/plain": [
       "<Figure size 1512x504 with 1 Axes>"
      ]
     },
     "metadata": {
      "needs_background": "light"
     },
     "output_type": "display_data"
    }
   ],
   "source": [
    "# ============================================\n",
    "# LOSS, ACCURACY 그래프\n",
    "# ============================================\n",
    "\n",
    "plt.figure(figsize = (21,7))\n",
    "plt.title('loss' , fontsize = 20)\n",
    "plt.plot(range(1,len(cnn_mdl.cnn_model.history.history['loss'])+1), cnn_mdl.cnn_model.history.history['loss'], label = 'train_loss')\n",
    "plt.plot(range(1,len(cnn_mdl.cnn_model.history.history['loss'])+1), cnn_mdl.cnn_model.history.history['val_loss'], label = 'valid_loss')\n",
    "plt.grid(True)\n",
    "plt.legend(loc = 'upper left')\n",
    "\n",
    "plt.figure(figsize = (21,7))\n",
    "plt.title('acc', fontsize = 20)\n",
    "plt.plot(range(1,len(cnn_mdl.cnn_model.history.history['loss'])+1), cnn_mdl.cnn_model.history.history['acc'], label = 'train_acc')\n",
    "plt.plot(range(1,len(cnn_mdl.cnn_model.history.history['loss'])+1), cnn_mdl.cnn_model.history.history['val_acc'], label = 'valid_acc')\n",
    "plt.grid(True)\n",
    "plt.legend(loc = 'upper left')"
   ]
  },
  {
   "cell_type": "markdown",
   "id": "40334a63",
   "metadata": {},
   "source": [
    "### Feature Map 추출"
   ]
  },
  {
   "cell_type": "code",
   "execution_count": 63,
   "id": "3259328a",
   "metadata": {},
   "outputs": [],
   "source": [
    "# feature map 추출\n",
    "feature_map_model = tf.keras.Model(inputs = cnn_mdl.cnn_model.inputs\n",
    "                                 , outputs = cnn_mdl.cnn_model.layers[len(cnn_mdl.cnn_model.layers)-2].output)\n",
    "\n",
    "train_feature_map = feature_map_model.predict(TRAIN_X, batch_size = 4)\n",
    "valid_feature_map = feature_map_model.predict(VALID_X, batch_size = 4)"
   ]
  },
  {
   "cell_type": "markdown",
   "id": "4f0a9ca9",
   "metadata": {},
   "source": [
    "### 예측"
   ]
  },
  {
   "cell_type": "code",
   "execution_count": 129,
   "id": "136df784",
   "metadata": {},
   "outputs": [
    {
     "data": {
      "text/plain": [
       "<tf.Tensor: shape=(), dtype=float32, numpy=0.68>"
      ]
     },
     "execution_count": 129,
     "metadata": {},
     "output_type": "execute_result"
    }
   ],
   "source": [
    "test_pred_y = cnn_mdl.cnn_model.predict(TEST_X,batch_size=4)[:,0]\n",
    "tf.keras.metrics.binary_accuracy(TEST_Y, test_pred_y, threshold=0.5)"
   ]
  },
  {
   "cell_type": "code",
   "execution_count": 130,
   "id": "08e07441",
   "metadata": {},
   "outputs": [
    {
     "name": "stdout",
     "output_type": "stream",
     "text": [
      "Accuracy    : 0.68\n",
      "Sensitivity : 0.66\n",
      "Specificity : 0.7\n"
     ]
    }
   ],
   "source": [
    "test_pred_y = np.where(test_pred_y >= 0.5,1,0)\n",
    "tab = pd.crosstab(TEST_Y,test_pred_y, rownames = ['True'], colnames = ['Pred'])\n",
    "\n",
    "acc = (tab.iloc[0,0] + tab.iloc[1,1])/tab.sum().sum()\n",
    "sen = (tab.iloc[1,1])/tab.iloc[1,].sum()\n",
    "spc = (tab.iloc[0,0])/tab.iloc[0,].sum()\n",
    "\n",
    "print('Accuracy    :', acc)\n",
    "print('Sensitivity :', sen)\n",
    "print('Specificity :', spc)"
   ]
  }
 ],
 "metadata": {
  "kernelspec": {
   "display_name": "Python 3 (ipykernel)",
   "language": "python",
   "name": "python3"
  },
  "language_info": {
   "codemirror_mode": {
    "name": "ipython",
    "version": 3
   },
   "file_extension": ".py",
   "mimetype": "text/x-python",
   "name": "python",
   "nbconvert_exporter": "python",
   "pygments_lexer": "ipython3",
   "version": "3.9.7"
  }
 },
 "nbformat": 4,
 "nbformat_minor": 5
}

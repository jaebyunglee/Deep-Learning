{
 "cells": [
  {
   "cell_type": "code",
   "execution_count": 170,
   "metadata": {},
   "outputs": [],
   "source": [
    "import matplotlib.pyplot as plt\n",
    "import os\n",
    "import shutil\n",
    "import zipfile\n",
    "import glob\n",
    "import cv2\n",
    "import tensorflow as tf\n",
    "import numpy as np\n",
    "import pandas as pd\n",
    "import random\n",
    "import pydot\n",
    "import graphviz\n",
    "# import pydotplus"
   ]
  },
  {
   "cell_type": "code",
   "execution_count": 171,
   "metadata": {},
   "outputs": [],
   "source": [
    "from tensorflow.keras.layers import Layer\n",
    "import tensorflow.keras.backend as K"
   ]
  },
  {
   "cell_type": "markdown",
   "metadata": {},
   "source": [
    "### attention dot product"
   ]
  },
  {
   "cell_type": "code",
   "execution_count": 311,
   "metadata": {},
   "outputs": [],
   "source": [
    "# Add attention layer to the deep learning network\n",
    "class my_attention(Layer):\n",
    "    def __init__(self,**kwargs):\n",
    "        super(my_attention,self).__init__(**kwargs)\n",
    " \n",
    "    def build(self,input_shape):      \n",
    "        super(my_attention, self).build(input_shape)\n",
    " \n",
    "    def call(self,x):\n",
    "        \n",
    "        # set last hidden state\n",
    "        print(x.shape)\n",
    "        last_hidden_state = tf.slice(x,[0,x.shape[1] - 1,0],size = [-1,-1,-1])\n",
    "        last_hidden_state = K.squeeze(last_hidden_state,axis=1)\n",
    "        \n",
    "        # reshape\n",
    "#         last_hidden_state = K.reshape(last_hidden_state,(x.shape[2],-1))\n",
    "#         last_hidden_state = K.reshape(last_hidden_state,(x.shape[2],-1))\n",
    "#         last_hidden_state = K.reshape(last_hidden_state,(-1,))\n",
    "        print(last_hidden_state)\n",
    "        \n",
    "        # dot product\n",
    "        e = K.dot(x, last_hidden_state)\n",
    "        print(f'e   shape : {e.shape}')\n",
    "#         e = K.squeeze(e, axis = -1)\n",
    "        print(f'e   shape : {e.shape}')\n",
    "        \n",
    "        # Compute the weights\n",
    "        alpha = K.softmax(e)\n",
    "        print(f'alpha   shape : {alpha.shape}')\n",
    "        \n",
    "        # Reshape to tensorFlow format\n",
    "#         alpha = K.expand_dims(alpha, axis=-1)\n",
    "#         print(f'alpha   shape : {alpha.shape}')\n",
    "        \n",
    "        # Compute the context vector\n",
    "        context = x * alpha\n",
    "        \n",
    "        print(f'context shape : {context.shape}')\n",
    "        context = K.sum(context, axis=1)\n",
    "        print(f'context shape : {context.shape}')\n",
    "        return context"
   ]
  },
  {
   "cell_type": "code",
   "execution_count": 312,
   "metadata": {},
   "outputs": [],
   "source": [
    "class attention(Layer):\n",
    "    def __init__(self,**kwargs):\n",
    "        super(attention,self).__init__(**kwargs)\n",
    " \n",
    "    def build(self,input_shape):\n",
    "        self.W=self.add_weight(name='attention_weight', shape=(input_shape[-1],1), \n",
    "                               initializer='random_normal', trainable=True)\n",
    "        self.b=self.add_weight(name='attention_bias', shape=(input_shape[1],1), \n",
    "                               initializer='zeros', trainable=True)        \n",
    "        super(attention, self).build(input_shape)\n",
    " \n",
    "    def call(self,x):\n",
    "        # set last hidden state\n",
    "        print(x.shape)\n",
    "        # Alignment scores. Pass them through tanh function\n",
    "        e = K.tanh(K.dot(x,self.W)+self.b)\n",
    "        print(f'e   shape : {e.shape}')\n",
    "        # Remove dimension of size 1\n",
    "        e = K.squeeze(e, axis=-1)\n",
    "        print(f'e   shape : {e.shape}')\n",
    "        # Compute the weights\n",
    "        alpha = K.softmax(e)\n",
    "        print(f'alpha   shape : {alpha.shape}')\n",
    "        # Reshape to tensorFlow format\n",
    "        alpha = K.expand_dims(alpha, axis=-1)\n",
    "        print(f'alpha   shape : {alpha.shape}')\n",
    "        # Compute the context vector\n",
    "        context = x * alpha\n",
    "        print(f'context shape : {context.shape}')\n",
    "        context = K.sum(context, axis=1)\n",
    "        print(f'context shape : {context.shape}')\n",
    "        return context"
   ]
  },
  {
   "cell_type": "code",
   "execution_count": 328,
   "metadata": {},
   "outputs": [
    {
     "name": "stdout",
     "output_type": "stream",
     "text": [
      "(None, 10, 3)\n",
      "Tensor(\"attention_market_54/Squeeze:0\", shape=(None, 3), dtype=float32)\n",
      "e   shape : (None, 10, 3)\n",
      "e   shape : (None, 10, 3)\n",
      "alpha   shape : (None, 10, 3)\n",
      "context shape : (None, 10, 3)\n",
      "context shape : (None, 3)\n"
     ]
    }
   ],
   "source": [
    "# Input Layer 0 ===============================================================================================================\n",
    "# input shape : (nTimeSteps, nFeatures)\n",
    "layer_input_market = tf.keras.Input(shape = (nTimeStep,Feature), name = \"market_input\")\n",
    "\n",
    "# market Dense\n",
    "Transformer_market = tf.keras.layers.Dense(64, activation=\"tanh\", name = \"trans_market\")\n",
    "gru_input_marekt  = Transformer_market(layer_input_market)\n",
    "\n",
    "gru_layer_market    = tf.keras.layers.GRU(3,return_sequences = True, name = 'gru_market')(gru_input_marekt)\n",
    "attention_layer_market  = my_attention(name = 'attention_market')(gru_layer_market)\n",
    "output = tf.keras.layers.Dense(1)(attention_layer_market)\n",
    "model = tf.keras.Model(layer_input_market, output)\n",
    "model.compile(optimizer = 'Adam', loss = 'mse')"
   ]
  },
  {
   "cell_type": "code",
   "execution_count": 329,
   "metadata": {},
   "outputs": [
    {
     "name": "stdout",
     "output_type": "stream",
     "text": [
      "Train on 1041 samples\n",
      "(None, 10, 3)\n",
      "Tensor(\"model_22/attention_market/Squeeze:0\", shape=(None, 3), dtype=float32)\n",
      "e   shape : (None, 10, 3)\n",
      "e   shape : (None, 10, 3)\n",
      "alpha   shape : (None, 10, 3)\n",
      "context shape : (None, 10, 3)\n",
      "context shape : (None, 3)\n",
      "(None, 10, 3)\n",
      "Tensor(\"model_22/attention_market/Squeeze:0\", shape=(None, 3), dtype=float32)\n",
      "e   shape : (None, 10, 3)\n",
      "e   shape : (None, 10, 3)\n",
      "alpha   shape : (None, 10, 3)\n",
      "context shape : (None, 10, 3)\n",
      "context shape : (None, 3)\n",
      "  32/1041 [..............................] - ETA: 36s"
     ]
    },
    {
     "ename": "InvalidArgumentError",
     "evalue": " Matrix size-incompatible: In[0]: [320,3], In[1]: [32,3]\n\t [[node model_22/attention_market/MatMul (defined at <ipython-input-311-caa8a2de67ab>:23) ]] [Op:__inference_distributed_function_42002]\n\nFunction call stack:\ndistributed_function\n",
     "output_type": "error",
     "traceback": [
      "\u001b[1;31m---------------------------------------------------------------------------\u001b[0m",
      "\u001b[1;31mInvalidArgumentError\u001b[0m                      Traceback (most recent call last)",
      "\u001b[1;32m<ipython-input-329-05596c973eb7>\u001b[0m in \u001b[0;36m<module>\u001b[1;34m\u001b[0m\n\u001b[1;32m----> 1\u001b[1;33m \u001b[0mmodel\u001b[0m\u001b[1;33m.\u001b[0m\u001b[0mfit\u001b[0m\u001b[1;33m(\u001b[0m\u001b[0mTrain_GRU_x\u001b[0m\u001b[1;33m,\u001b[0m \u001b[0mnp\u001b[0m\u001b[1;33m.\u001b[0m\u001b[0marray\u001b[0m\u001b[1;33m(\u001b[0m\u001b[1;33m[\u001b[0m\u001b[0mTrain_GRU_y\u001b[0m\u001b[1;33m[\u001b[0m\u001b[0ms\u001b[0m\u001b[1;33m]\u001b[0m\u001b[1;33m[\u001b[0m\u001b[1;36m0\u001b[0m\u001b[1;33m]\u001b[0m \u001b[1;32mfor\u001b[0m \u001b[0ms\u001b[0m \u001b[1;32min\u001b[0m \u001b[0mrange\u001b[0m\u001b[1;33m(\u001b[0m\u001b[0mlen\u001b[0m\u001b[1;33m(\u001b[0m\u001b[0mTrain_GRU_y\u001b[0m\u001b[1;33m)\u001b[0m\u001b[1;33m)\u001b[0m\u001b[1;33m]\u001b[0m\u001b[1;33m)\u001b[0m\u001b[1;33m,\u001b[0m \u001b[0mepochs\u001b[0m\u001b[1;33m=\u001b[0m\u001b[1;36m1\u001b[0m\u001b[1;33m)\u001b[0m\u001b[1;33m\u001b[0m\u001b[1;33m\u001b[0m\u001b[0m\n\u001b[0m",
      "\u001b[1;32m~\\Anaconda3\\lib\\site-packages\\tensorflow_core\\python\\keras\\engine\\training.py\u001b[0m in \u001b[0;36mfit\u001b[1;34m(self, x, y, batch_size, epochs, verbose, callbacks, validation_split, validation_data, shuffle, class_weight, sample_weight, initial_epoch, steps_per_epoch, validation_steps, validation_freq, max_queue_size, workers, use_multiprocessing, **kwargs)\u001b[0m\n\u001b[0;32m    817\u001b[0m         \u001b[0mmax_queue_size\u001b[0m\u001b[1;33m=\u001b[0m\u001b[0mmax_queue_size\u001b[0m\u001b[1;33m,\u001b[0m\u001b[1;33m\u001b[0m\u001b[1;33m\u001b[0m\u001b[0m\n\u001b[0;32m    818\u001b[0m         \u001b[0mworkers\u001b[0m\u001b[1;33m=\u001b[0m\u001b[0mworkers\u001b[0m\u001b[1;33m,\u001b[0m\u001b[1;33m\u001b[0m\u001b[1;33m\u001b[0m\u001b[0m\n\u001b[1;32m--> 819\u001b[1;33m         use_multiprocessing=use_multiprocessing)\n\u001b[0m\u001b[0;32m    820\u001b[0m \u001b[1;33m\u001b[0m\u001b[0m\n\u001b[0;32m    821\u001b[0m   def evaluate(self,\n",
      "\u001b[1;32m~\\Anaconda3\\lib\\site-packages\\tensorflow_core\\python\\keras\\engine\\training_v2.py\u001b[0m in \u001b[0;36mfit\u001b[1;34m(self, model, x, y, batch_size, epochs, verbose, callbacks, validation_split, validation_data, shuffle, class_weight, sample_weight, initial_epoch, steps_per_epoch, validation_steps, validation_freq, max_queue_size, workers, use_multiprocessing, **kwargs)\u001b[0m\n\u001b[0;32m    340\u001b[0m                 \u001b[0mmode\u001b[0m\u001b[1;33m=\u001b[0m\u001b[0mModeKeys\u001b[0m\u001b[1;33m.\u001b[0m\u001b[0mTRAIN\u001b[0m\u001b[1;33m,\u001b[0m\u001b[1;33m\u001b[0m\u001b[1;33m\u001b[0m\u001b[0m\n\u001b[0;32m    341\u001b[0m                 \u001b[0mtraining_context\u001b[0m\u001b[1;33m=\u001b[0m\u001b[0mtraining_context\u001b[0m\u001b[1;33m,\u001b[0m\u001b[1;33m\u001b[0m\u001b[1;33m\u001b[0m\u001b[0m\n\u001b[1;32m--> 342\u001b[1;33m                 total_epochs=epochs)\n\u001b[0m\u001b[0;32m    343\u001b[0m             \u001b[0mcbks\u001b[0m\u001b[1;33m.\u001b[0m\u001b[0mmake_logs\u001b[0m\u001b[1;33m(\u001b[0m\u001b[0mmodel\u001b[0m\u001b[1;33m,\u001b[0m \u001b[0mepoch_logs\u001b[0m\u001b[1;33m,\u001b[0m \u001b[0mtraining_result\u001b[0m\u001b[1;33m,\u001b[0m \u001b[0mModeKeys\u001b[0m\u001b[1;33m.\u001b[0m\u001b[0mTRAIN\u001b[0m\u001b[1;33m)\u001b[0m\u001b[1;33m\u001b[0m\u001b[1;33m\u001b[0m\u001b[0m\n\u001b[0;32m    344\u001b[0m \u001b[1;33m\u001b[0m\u001b[0m\n",
      "\u001b[1;32m~\\Anaconda3\\lib\\site-packages\\tensorflow_core\\python\\keras\\engine\\training_v2.py\u001b[0m in \u001b[0;36mrun_one_epoch\u001b[1;34m(model, iterator, execution_function, dataset_size, batch_size, strategy, steps_per_epoch, num_samples, mode, training_context, total_epochs)\u001b[0m\n\u001b[0;32m    126\u001b[0m         step=step, mode=mode, size=current_batch_size) as batch_logs:\n\u001b[0;32m    127\u001b[0m       \u001b[1;32mtry\u001b[0m\u001b[1;33m:\u001b[0m\u001b[1;33m\u001b[0m\u001b[1;33m\u001b[0m\u001b[0m\n\u001b[1;32m--> 128\u001b[1;33m         \u001b[0mbatch_outs\u001b[0m \u001b[1;33m=\u001b[0m \u001b[0mexecution_function\u001b[0m\u001b[1;33m(\u001b[0m\u001b[0miterator\u001b[0m\u001b[1;33m)\u001b[0m\u001b[1;33m\u001b[0m\u001b[1;33m\u001b[0m\u001b[0m\n\u001b[0m\u001b[0;32m    129\u001b[0m       \u001b[1;32mexcept\u001b[0m \u001b[1;33m(\u001b[0m\u001b[0mStopIteration\u001b[0m\u001b[1;33m,\u001b[0m \u001b[0merrors\u001b[0m\u001b[1;33m.\u001b[0m\u001b[0mOutOfRangeError\u001b[0m\u001b[1;33m)\u001b[0m\u001b[1;33m:\u001b[0m\u001b[1;33m\u001b[0m\u001b[1;33m\u001b[0m\u001b[0m\n\u001b[0;32m    130\u001b[0m         \u001b[1;31m# TODO(kaftan): File bug about tf function and errors.OutOfRangeError?\u001b[0m\u001b[1;33m\u001b[0m\u001b[1;33m\u001b[0m\u001b[1;33m\u001b[0m\u001b[0m\n",
      "\u001b[1;32m~\\Anaconda3\\lib\\site-packages\\tensorflow_core\\python\\keras\\engine\\training_v2_utils.py\u001b[0m in \u001b[0;36mexecution_function\u001b[1;34m(input_fn)\u001b[0m\n\u001b[0;32m     96\u001b[0m     \u001b[1;31m# `numpy` translates Tensors to values in Eager mode.\u001b[0m\u001b[1;33m\u001b[0m\u001b[1;33m\u001b[0m\u001b[1;33m\u001b[0m\u001b[0m\n\u001b[0;32m     97\u001b[0m     return nest.map_structure(_non_none_constant_value,\n\u001b[1;32m---> 98\u001b[1;33m                               distributed_function(input_fn))\n\u001b[0m\u001b[0;32m     99\u001b[0m \u001b[1;33m\u001b[0m\u001b[0m\n\u001b[0;32m    100\u001b[0m   \u001b[1;32mreturn\u001b[0m \u001b[0mexecution_function\u001b[0m\u001b[1;33m\u001b[0m\u001b[1;33m\u001b[0m\u001b[0m\n",
      "\u001b[1;32m~\\Anaconda3\\lib\\site-packages\\tensorflow_core\\python\\eager\\def_function.py\u001b[0m in \u001b[0;36m__call__\u001b[1;34m(self, *args, **kwds)\u001b[0m\n\u001b[0;32m    566\u001b[0m         \u001b[0mxla_context\u001b[0m\u001b[1;33m.\u001b[0m\u001b[0mExit\u001b[0m\u001b[1;33m(\u001b[0m\u001b[1;33m)\u001b[0m\u001b[1;33m\u001b[0m\u001b[1;33m\u001b[0m\u001b[0m\n\u001b[0;32m    567\u001b[0m     \u001b[1;32melse\u001b[0m\u001b[1;33m:\u001b[0m\u001b[1;33m\u001b[0m\u001b[1;33m\u001b[0m\u001b[0m\n\u001b[1;32m--> 568\u001b[1;33m       \u001b[0mresult\u001b[0m \u001b[1;33m=\u001b[0m \u001b[0mself\u001b[0m\u001b[1;33m.\u001b[0m\u001b[0m_call\u001b[0m\u001b[1;33m(\u001b[0m\u001b[1;33m*\u001b[0m\u001b[0margs\u001b[0m\u001b[1;33m,\u001b[0m \u001b[1;33m**\u001b[0m\u001b[0mkwds\u001b[0m\u001b[1;33m)\u001b[0m\u001b[1;33m\u001b[0m\u001b[1;33m\u001b[0m\u001b[0m\n\u001b[0m\u001b[0;32m    569\u001b[0m \u001b[1;33m\u001b[0m\u001b[0m\n\u001b[0;32m    570\u001b[0m     \u001b[1;32mif\u001b[0m \u001b[0mtracing_count\u001b[0m \u001b[1;33m==\u001b[0m \u001b[0mself\u001b[0m\u001b[1;33m.\u001b[0m\u001b[0m_get_tracing_count\u001b[0m\u001b[1;33m(\u001b[0m\u001b[1;33m)\u001b[0m\u001b[1;33m:\u001b[0m\u001b[1;33m\u001b[0m\u001b[1;33m\u001b[0m\u001b[0m\n",
      "\u001b[1;32m~\\Anaconda3\\lib\\site-packages\\tensorflow_core\\python\\eager\\def_function.py\u001b[0m in \u001b[0;36m_call\u001b[1;34m(self, *args, **kwds)\u001b[0m\n\u001b[0;32m    630\u001b[0m         \u001b[1;31m# Lifting succeeded, so variables are initialized and we can run the\u001b[0m\u001b[1;33m\u001b[0m\u001b[1;33m\u001b[0m\u001b[1;33m\u001b[0m\u001b[0m\n\u001b[0;32m    631\u001b[0m         \u001b[1;31m# stateless function.\u001b[0m\u001b[1;33m\u001b[0m\u001b[1;33m\u001b[0m\u001b[1;33m\u001b[0m\u001b[0m\n\u001b[1;32m--> 632\u001b[1;33m         \u001b[1;32mreturn\u001b[0m \u001b[0mself\u001b[0m\u001b[1;33m.\u001b[0m\u001b[0m_stateless_fn\u001b[0m\u001b[1;33m(\u001b[0m\u001b[1;33m*\u001b[0m\u001b[0margs\u001b[0m\u001b[1;33m,\u001b[0m \u001b[1;33m**\u001b[0m\u001b[0mkwds\u001b[0m\u001b[1;33m)\u001b[0m\u001b[1;33m\u001b[0m\u001b[1;33m\u001b[0m\u001b[0m\n\u001b[0m\u001b[0;32m    633\u001b[0m     \u001b[1;32melse\u001b[0m\u001b[1;33m:\u001b[0m\u001b[1;33m\u001b[0m\u001b[1;33m\u001b[0m\u001b[0m\n\u001b[0;32m    634\u001b[0m       \u001b[0mcanon_args\u001b[0m\u001b[1;33m,\u001b[0m \u001b[0mcanon_kwds\u001b[0m \u001b[1;33m=\u001b[0m\u001b[0;31m \u001b[0m\u001b[0;31m\\\u001b[0m\u001b[1;33m\u001b[0m\u001b[1;33m\u001b[0m\u001b[0m\n",
      "\u001b[1;32m~\\Anaconda3\\lib\\site-packages\\tensorflow_core\\python\\eager\\function.py\u001b[0m in \u001b[0;36m__call__\u001b[1;34m(self, *args, **kwargs)\u001b[0m\n\u001b[0;32m   2361\u001b[0m     \u001b[1;32mwith\u001b[0m \u001b[0mself\u001b[0m\u001b[1;33m.\u001b[0m\u001b[0m_lock\u001b[0m\u001b[1;33m:\u001b[0m\u001b[1;33m\u001b[0m\u001b[1;33m\u001b[0m\u001b[0m\n\u001b[0;32m   2362\u001b[0m       \u001b[0mgraph_function\u001b[0m\u001b[1;33m,\u001b[0m \u001b[0margs\u001b[0m\u001b[1;33m,\u001b[0m \u001b[0mkwargs\u001b[0m \u001b[1;33m=\u001b[0m \u001b[0mself\u001b[0m\u001b[1;33m.\u001b[0m\u001b[0m_maybe_define_function\u001b[0m\u001b[1;33m(\u001b[0m\u001b[0margs\u001b[0m\u001b[1;33m,\u001b[0m \u001b[0mkwargs\u001b[0m\u001b[1;33m)\u001b[0m\u001b[1;33m\u001b[0m\u001b[1;33m\u001b[0m\u001b[0m\n\u001b[1;32m-> 2363\u001b[1;33m     \u001b[1;32mreturn\u001b[0m \u001b[0mgraph_function\u001b[0m\u001b[1;33m.\u001b[0m\u001b[0m_filtered_call\u001b[0m\u001b[1;33m(\u001b[0m\u001b[0margs\u001b[0m\u001b[1;33m,\u001b[0m \u001b[0mkwargs\u001b[0m\u001b[1;33m)\u001b[0m  \u001b[1;31m# pylint: disable=protected-access\u001b[0m\u001b[1;33m\u001b[0m\u001b[1;33m\u001b[0m\u001b[0m\n\u001b[0m\u001b[0;32m   2364\u001b[0m \u001b[1;33m\u001b[0m\u001b[0m\n\u001b[0;32m   2365\u001b[0m   \u001b[1;33m@\u001b[0m\u001b[0mproperty\u001b[0m\u001b[1;33m\u001b[0m\u001b[1;33m\u001b[0m\u001b[0m\n",
      "\u001b[1;32m~\\Anaconda3\\lib\\site-packages\\tensorflow_core\\python\\eager\\function.py\u001b[0m in \u001b[0;36m_filtered_call\u001b[1;34m(self, args, kwargs)\u001b[0m\n\u001b[0;32m   1609\u001b[0m          if isinstance(t, (ops.Tensor,\n\u001b[0;32m   1610\u001b[0m                            resource_variable_ops.BaseResourceVariable))),\n\u001b[1;32m-> 1611\u001b[1;33m         self.captured_inputs)\n\u001b[0m\u001b[0;32m   1612\u001b[0m \u001b[1;33m\u001b[0m\u001b[0m\n\u001b[0;32m   1613\u001b[0m   \u001b[1;32mdef\u001b[0m \u001b[0m_call_flat\u001b[0m\u001b[1;33m(\u001b[0m\u001b[0mself\u001b[0m\u001b[1;33m,\u001b[0m \u001b[0margs\u001b[0m\u001b[1;33m,\u001b[0m \u001b[0mcaptured_inputs\u001b[0m\u001b[1;33m,\u001b[0m \u001b[0mcancellation_manager\u001b[0m\u001b[1;33m=\u001b[0m\u001b[1;32mNone\u001b[0m\u001b[1;33m)\u001b[0m\u001b[1;33m:\u001b[0m\u001b[1;33m\u001b[0m\u001b[1;33m\u001b[0m\u001b[0m\n",
      "\u001b[1;32m~\\Anaconda3\\lib\\site-packages\\tensorflow_core\\python\\eager\\function.py\u001b[0m in \u001b[0;36m_call_flat\u001b[1;34m(self, args, captured_inputs, cancellation_manager)\u001b[0m\n\u001b[0;32m   1690\u001b[0m       \u001b[1;31m# No tape is watching; skip to running the function.\u001b[0m\u001b[1;33m\u001b[0m\u001b[1;33m\u001b[0m\u001b[1;33m\u001b[0m\u001b[0m\n\u001b[0;32m   1691\u001b[0m       return self._build_call_outputs(self._inference_function.call(\n\u001b[1;32m-> 1692\u001b[1;33m           ctx, args, cancellation_manager=cancellation_manager))\n\u001b[0m\u001b[0;32m   1693\u001b[0m     forward_backward = self._select_forward_and_backward_functions(\n\u001b[0;32m   1694\u001b[0m         \u001b[0margs\u001b[0m\u001b[1;33m,\u001b[0m\u001b[1;33m\u001b[0m\u001b[1;33m\u001b[0m\u001b[0m\n",
      "\u001b[1;32m~\\Anaconda3\\lib\\site-packages\\tensorflow_core\\python\\eager\\function.py\u001b[0m in \u001b[0;36mcall\u001b[1;34m(self, ctx, args, cancellation_manager)\u001b[0m\n\u001b[0;32m    543\u001b[0m               \u001b[0minputs\u001b[0m\u001b[1;33m=\u001b[0m\u001b[0margs\u001b[0m\u001b[1;33m,\u001b[0m\u001b[1;33m\u001b[0m\u001b[1;33m\u001b[0m\u001b[0m\n\u001b[0;32m    544\u001b[0m               \u001b[0mattrs\u001b[0m\u001b[1;33m=\u001b[0m\u001b[1;33m(\u001b[0m\u001b[1;34m\"executor_type\"\u001b[0m\u001b[1;33m,\u001b[0m \u001b[0mexecutor_type\u001b[0m\u001b[1;33m,\u001b[0m \u001b[1;34m\"config_proto\"\u001b[0m\u001b[1;33m,\u001b[0m \u001b[0mconfig\u001b[0m\u001b[1;33m)\u001b[0m\u001b[1;33m,\u001b[0m\u001b[1;33m\u001b[0m\u001b[1;33m\u001b[0m\u001b[0m\n\u001b[1;32m--> 545\u001b[1;33m               ctx=ctx)\n\u001b[0m\u001b[0;32m    546\u001b[0m         \u001b[1;32melse\u001b[0m\u001b[1;33m:\u001b[0m\u001b[1;33m\u001b[0m\u001b[1;33m\u001b[0m\u001b[0m\n\u001b[0;32m    547\u001b[0m           outputs = execute.execute_with_cancellation(\n",
      "\u001b[1;32m~\\Anaconda3\\lib\\site-packages\\tensorflow_core\\python\\eager\\execute.py\u001b[0m in \u001b[0;36mquick_execute\u001b[1;34m(op_name, num_outputs, inputs, attrs, ctx, name)\u001b[0m\n\u001b[0;32m     65\u001b[0m     \u001b[1;32melse\u001b[0m\u001b[1;33m:\u001b[0m\u001b[1;33m\u001b[0m\u001b[1;33m\u001b[0m\u001b[0m\n\u001b[0;32m     66\u001b[0m       \u001b[0mmessage\u001b[0m \u001b[1;33m=\u001b[0m \u001b[0me\u001b[0m\u001b[1;33m.\u001b[0m\u001b[0mmessage\u001b[0m\u001b[1;33m\u001b[0m\u001b[1;33m\u001b[0m\u001b[0m\n\u001b[1;32m---> 67\u001b[1;33m     \u001b[0msix\u001b[0m\u001b[1;33m.\u001b[0m\u001b[0mraise_from\u001b[0m\u001b[1;33m(\u001b[0m\u001b[0mcore\u001b[0m\u001b[1;33m.\u001b[0m\u001b[0m_status_to_exception\u001b[0m\u001b[1;33m(\u001b[0m\u001b[0me\u001b[0m\u001b[1;33m.\u001b[0m\u001b[0mcode\u001b[0m\u001b[1;33m,\u001b[0m \u001b[0mmessage\u001b[0m\u001b[1;33m)\u001b[0m\u001b[1;33m,\u001b[0m \u001b[1;32mNone\u001b[0m\u001b[1;33m)\u001b[0m\u001b[1;33m\u001b[0m\u001b[1;33m\u001b[0m\u001b[0m\n\u001b[0m\u001b[0;32m     68\u001b[0m   \u001b[1;32mexcept\u001b[0m \u001b[0mTypeError\u001b[0m \u001b[1;32mas\u001b[0m \u001b[0me\u001b[0m\u001b[1;33m:\u001b[0m\u001b[1;33m\u001b[0m\u001b[1;33m\u001b[0m\u001b[0m\n\u001b[0;32m     69\u001b[0m     keras_symbolic_tensors = [\n",
      "\u001b[1;32m~\\Anaconda3\\lib\\site-packages\\six.py\u001b[0m in \u001b[0;36mraise_from\u001b[1;34m(value, from_value)\u001b[0m\n",
      "\u001b[1;31mInvalidArgumentError\u001b[0m:  Matrix size-incompatible: In[0]: [320,3], In[1]: [32,3]\n\t [[node model_22/attention_market/MatMul (defined at <ipython-input-311-caa8a2de67ab>:23) ]] [Op:__inference_distributed_function_42002]\n\nFunction call stack:\ndistributed_function\n"
     ]
    }
   ],
   "source": [
    "model.fit(Train_GRU_x, np.array([Train_GRU_y[s][0] for s in range(len(Train_GRU_y))]), epochs=1)"
   ]
  },
  {
   "cell_type": "code",
   "execution_count": 314,
   "metadata": {},
   "outputs": [
    {
     "name": "stdout",
     "output_type": "stream",
     "text": [
      "(None, 10, 3)\n",
      "e   shape : (None, 10, 1)\n",
      "e   shape : (None, 10)\n",
      "alpha   shape : (None, 10)\n",
      "alpha   shape : (None, 10, 1)\n",
      "context shape : (None, 10, 3)\n",
      "context shape : (None, 3)\n"
     ]
    }
   ],
   "source": [
    "# Input Layer 0 ===============================================================================================================\n",
    "# input shape : (nTimeSteps, nFeatures)\n",
    "layer_input_market = tf.keras.Input(shape = (nTimeStep,Feature), name = \"market_input\")\n",
    "\n",
    "# market Dense\n",
    "Transformer_market = tf.keras.layers.Dense(64, activation=\"tanh\", name = \"trans_market\")\n",
    "gru_input_marekt  = Transformer_market(layer_input_market)\n",
    "\n",
    "gru_layer_market    = tf.keras.layers.GRU(3,return_sequences = True, name = 'gru_market')(gru_input_marekt)\n",
    "attention_layer_market  = attention(name = 'attention_market')(gru_layer_market)\n",
    "output = tf.keras.layers.Dense(1)(attention_layer_market)\n",
    "model = tf.keras.Model(layer_input_market, output)\n",
    "model.compile(optimizer = 'Adam', loss = 'mse')"
   ]
  },
  {
   "cell_type": "code",
   "execution_count": null,
   "metadata": {},
   "outputs": [],
   "source": []
  },
  {
   "cell_type": "code",
   "execution_count": 315,
   "metadata": {},
   "outputs": [],
   "source": [
    "# =========================================\n",
    "# 시계열 데이터 생성\n",
    "# =========================================\n",
    "n = 2349\n",
    "p = 5\n",
    "b_vec = np.arange(p,0,-1)/10\n",
    "x_mat = np.random.normal(0,1,[n,p])\n",
    "y_vec = np.dot(x_mat,b_vec) + np.random.normal(0,1,n)\n",
    "# y_vec = y_vec.cumsum()\n",
    "# y_vec = y_vec + abs(y_vec.min() )+ 100"
   ]
  },
  {
   "cell_type": "code",
   "execution_count": 316,
   "metadata": {},
   "outputs": [],
   "source": [
    "# =========================================\n",
    "# X ,Y 데이터 생성\n",
    "# =========================================\n",
    "columns = [\"xvar_{}\".format(x) for x in np.arange(0,p)]\n",
    "xDF = pd.DataFrame(x_mat, columns = columns)\n",
    "yDF = pd.DataFrame(y_vec,columns = ['Price'])\n",
    "xyDF = pd.concat([xDF,yDF], axis = 1)"
   ]
  },
  {
   "cell_type": "code",
   "execution_count": 317,
   "metadata": {},
   "outputs": [],
   "source": [
    "# =========================================\n",
    "# Date 데이터 생성\n",
    "# =========================================\n",
    "xyDF['Date'] = pd.date_range(start = '2013-01-01', end = '2021-12-31', freq = '1B')"
   ]
  },
  {
   "cell_type": "code",
   "execution_count": 318,
   "metadata": {},
   "outputs": [
    {
     "data": {
      "text/html": [
       "<div>\n",
       "<style scoped>\n",
       "    .dataframe tbody tr th:only-of-type {\n",
       "        vertical-align: middle;\n",
       "    }\n",
       "\n",
       "    .dataframe tbody tr th {\n",
       "        vertical-align: top;\n",
       "    }\n",
       "\n",
       "    .dataframe thead th {\n",
       "        text-align: right;\n",
       "    }\n",
       "</style>\n",
       "<table border=\"1\" class=\"dataframe\">\n",
       "  <thead>\n",
       "    <tr style=\"text-align: right;\">\n",
       "      <th></th>\n",
       "      <th>train_start</th>\n",
       "      <th>train_end</th>\n",
       "      <th>valid_start</th>\n",
       "      <th>valid_end</th>\n",
       "      <th>test_start</th>\n",
       "      <th>test_end</th>\n",
       "    </tr>\n",
       "  </thead>\n",
       "  <tbody>\n",
       "    <tr>\n",
       "      <th>0</th>\n",
       "      <td>2016-10-05</td>\n",
       "      <td>2020-09-30</td>\n",
       "      <td>2020-10-01</td>\n",
       "      <td>2020-12-31</td>\n",
       "      <td>2021-01-01</td>\n",
       "      <td>2021-04-02</td>\n",
       "    </tr>\n",
       "  </tbody>\n",
       "</table>\n",
       "</div>"
      ],
      "text/plain": [
       "  train_start  train_end valid_start  valid_end test_start   test_end\n",
       "0  2016-10-05 2020-09-30  2020-10-01 2020-12-31 2021-01-01 2021-04-02"
      ]
     },
     "execution_count": 318,
     "metadata": {},
     "output_type": "execute_result"
    }
   ],
   "source": [
    "# =========================================\n",
    "# 65일 후 주가 예측 모델을 위한 데이터 전처리\n",
    "# 학습      : 1040일(4년)\n",
    "# Valdation : 65일(3개월)\n",
    "# Test      : 65일 (3개월) \n",
    "# =========================================\n",
    "\n",
    "model_code = 65\n",
    "base_date = '20210101'\n",
    "\n",
    "test_end_date = pd.date_range(base_date, periods=2, freq = \"{}B\".format(model_code))[1]\n",
    "test_start_date = pd.date_range(test_end_date, periods = 2, freq = \"-{}B\".format(model_code))[1]\n",
    "valid_end_date = pd.date_range(test_start_date, periods = 2, freq = \"-1B\".format(model_code))[1]\n",
    "# valid_end_date = pd.date_range(test_start_date, periods = 2, freq = \"-{}B\".format(model_code))[1]\n",
    "valid_start_date = pd.date_range(valid_end_date, periods = 2, freq = \"-{}B\".format(model_code))[1]\n",
    "train_end_date = pd.date_range(valid_start_date, periods = 2, freq = \"-{}B\".format(1))[1]\n",
    "train_start_date = pd.date_range(train_end_date, periods = 2, freq = \"-{}B\".format(1040))[1]\n",
    "\n",
    "\n",
    "date_df = pd.DataFrame({\"train_start\" : train_start_date,\n",
    "                        \"train_end\" : train_end_date,\n",
    "                        \"valid_start\" : valid_start_date,\n",
    "                        \"valid_end\" : valid_end_date,\n",
    "                        \"test_start\" : test_start_date,\n",
    "                        \"test_end\" : test_end_date}, index = [0])\n",
    "\n",
    "date_df"
   ]
  },
  {
   "cell_type": "code",
   "execution_count": 319,
   "metadata": {},
   "outputs": [],
   "source": [
    "# =========================================\n",
    "# Y 및 Y의 일자 생성\n",
    "# =========================================\n",
    "xyDF['Y'] = xyDF['Price'].shift(-1)\n",
    "# xyDF['Y'] = xyDF['Price'].pct_change(65).shift(-65)\n",
    "xyDF['Y_DATE'] = list(map(lambda xx : pd.date_range(xx, periods = 2, freq = '65B')[1],xyDF.Date))"
   ]
  },
  {
   "cell_type": "code",
   "execution_count": 320,
   "metadata": {},
   "outputs": [],
   "source": [
    "# =========================================\n",
    "# GRU X 데이터 생성을 위한 인덱스 Array 만들기\n",
    "# EX)\n",
    "#  : np.arange(0, 0 + nSteps * nInterval ,nInterval)\n",
    "#  : np.arange(1, 1 + nSteps * nInterval ,nInterval)\n",
    "#  : np.arange(2, 3 + nSteps * nInterval ,nInterval)\n",
    "#  : np.arange(2209, 2209 + nSteps * nInterval ,nInterval)\n",
    "#  : np.arange(x, x + nSteps * nInterval, nInterval)\n",
    "# =========================================\n",
    "\n",
    "nSteps = 10\n",
    "nInterval = 10\n",
    "dimBatch = len(xyDF) - nInterval*(nSteps - 1)\n",
    "listidx = [np.arange(x, x + nSteps * nInterval, nInterval) for x in range(dimBatch)]"
   ]
  },
  {
   "cell_type": "code",
   "execution_count": 321,
   "metadata": {},
   "outputs": [],
   "source": [
    "# =========================================\n",
    "# GRU X, Y 데이터 생성\n",
    "# =========================================\n",
    "\n",
    "x_var = [s for s in xyDF.columns if 'xvar' in s]\n",
    "#x_var = [s for s in xyDF.columns if 'Price' in s]\n",
    "GRU_x = []\n",
    "GRU_y = []\n",
    "GRU_date = []\n",
    "\n",
    "for i in range(dimBatch):\n",
    "    \n",
    "    ind = listidx[i]\n",
    "    sub_xyDF = xyDF.iloc[ind,:]\n",
    "    x = np.array(sub_xyDF[x_var])\n",
    "    y = np.array(sub_xyDF['Y'])        # 해당 X의 가장 마지막 Y\n",
    "    date = sub_xyDF.tail(1)[[\"Date\",\"Y_DATE\"]] # 해당 Y의 일자 -> Train, Valid, Test 구분을 위해 필요\n",
    "    \n",
    "    GRU_x.append(x)\n",
    "    GRU_y.append(y)\n",
    "    GRU_date.append(date)\n",
    "    \n",
    "    del(x,y,date,ind,sub_xyDF)\n",
    "    \n",
    "GRU_x = np.array(GRU_x)\n",
    "GRU_y = np.array(GRU_y)\n",
    "GRU_date = pd.concat(GRU_date)"
   ]
  },
  {
   "cell_type": "code",
   "execution_count": 322,
   "metadata": {},
   "outputs": [
    {
     "name": "stdout",
     "output_type": "stream",
     "text": [
      "X shape :  (2259, 10, 5)\n",
      "y shape :  (2259, 10)\n",
      "date shape :  (2259, 2)\n"
     ]
    }
   ],
   "source": [
    "print('X shape : ', GRU_x.shape)\n",
    "print('y shape : ', GRU_y.shape)\n",
    "print('date shape : ', GRU_date.shape)"
   ]
  },
  {
   "cell_type": "code",
   "execution_count": 323,
   "metadata": {},
   "outputs": [],
   "source": [
    "# =========================================\n",
    "# Train, Valid, Test 데이터로 분할\n",
    "# =========================================\n",
    "\n",
    "# 날짜 데이터 프레임으로 Train, Valid, Test Index 생성\n",
    "Train_Index = (date_df.train_start[0] <= GRU_date.Y_DATE)& (GRU_date.Y_DATE <= date_df.train_end[0])\n",
    "Valid_Index = (date_df.valid_start[0] <= GRU_date.Y_DATE)& (GRU_date.Y_DATE <= date_df.valid_end[0])\n",
    "Test_Index = (date_df.test_start[0] <= GRU_date.Y_DATE)& (GRU_date.Y_DATE <= date_df.test_end[0])\n",
    "\n",
    "# Train, Valid, Test 데이터 생성\n",
    "Train_GRU_x = GRU_x[Train_Index,:,:]\n",
    "Train_GRU_y = GRU_y[Train_Index,:]\n",
    "\n",
    "Valid_GRU_x = GRU_x[Valid_Index,:,:]\n",
    "Valid_GRU_y = GRU_y[Valid_Index,:]\n",
    "\n",
    "Test_GRU_x = GRU_x[Test_Index,:,:]\n",
    "Test_GRU_y = GRU_y[Test_Index,:]"
   ]
  },
  {
   "cell_type": "code",
   "execution_count": 324,
   "metadata": {},
   "outputs": [],
   "source": [
    "# =========================================\n",
    "# Min, Max Scale\n",
    "# =========================================\n",
    "# 각 Feature 별 Min Max 값 생성\n",
    "Min_Max_DF = pd.DataFrame({})\n",
    "for ind in range(Train_GRU_x.shape[2]):\n",
    "    Max = Train_GRU_x[:,:,ind].max()\n",
    "    Min = Train_GRU_x[:,:,ind].min()\n",
    "    Min_Max_DF = pd.concat([Min_Max_DF, pd.DataFrame({\"Feature_No\": ind , \"Max\" : Max, \"Min\" : Min}, index = [0])])\n",
    "    \n",
    "Min_Max_DF.reset_index(drop = True, inplace = True)\n",
    "\n",
    "\n",
    "# 각 Feature 별 Min Max Scale 진행\n",
    "for ind in range(Train_GRU_x.shape[2]):\n",
    "    # Train Min Max Scale\n",
    "    Train_GRU_x[:,:,ind] = (Train_GRU_x[:,:,ind] - Min_Max_DF.iloc[ind,2])/(Min_Max_DF.iloc[ind,1] - Min_Max_DF.iloc[ind,2])\n",
    "\n",
    "    # Valid Min Max Scale\n",
    "    Valid_GRU_x[:,:,ind] = (Valid_GRU_x[:,:,ind] - Min_Max_DF.iloc[ind,2])/(Min_Max_DF.iloc[ind,1] - Min_Max_DF.iloc[ind,2])\n",
    "    Valid_GRU_x[:,:,ind] = np.where(Valid_GRU_x[:,:,ind] >= 1 , 1, Valid_GRU_x[:,:,ind] ) # Train 에서 생성된 Max값으로 Scale 하기 때문에 \n",
    "    Valid_GRU_x[:,:,ind] = np.where(Valid_GRU_x[:,:,ind] <= 0 , 0, Valid_GRU_x[:,:,ind] ) # Train 에서 생성된 Min값으로 Scale 하기 때문에\n",
    "\n",
    "    # Test Min Max Scale\n",
    "    Test_GRU_x[:,:,ind] = (Test_GRU_x[:,:,ind] - Min_Max_DF.iloc[ind,2])/(Min_Max_DF.iloc[ind,1] - Min_Max_DF.iloc[ind,2])\n",
    "    Test_GRU_x[:,:,ind] = np.where(Test_GRU_x[:,:,ind] >= 1 , 1, Test_GRU_x[:,:,ind] ) # Train 에서 생성된 Max값으로 Scale 하기 때문에 \n",
    "    Test_GRU_x[:,:,ind] = np.where(Test_GRU_x[:,:,ind] <= 0 , 0, Test_GRU_x[:,:,ind] ) # Train 에서 생성된 Min값으로 Scale 하기 때문에"
   ]
  },
  {
   "cell_type": "code",
   "execution_count": 325,
   "metadata": {},
   "outputs": [],
   "source": [
    "nTimeStep = 10\n",
    "Feature = 5"
   ]
  },
  {
   "cell_type": "code",
   "execution_count": 326,
   "metadata": {},
   "outputs": [
    {
     "name": "stdout",
     "output_type": "stream",
     "text": [
      "(None, 10, 3)\n",
      "e   shape : (None, 10, 1)\n",
      "e   shape : (None, 10)\n",
      "alpha   shape : (None, 10)\n",
      "alpha   shape : (None, 10, 1)\n",
      "context shape : (None, 10, 3)\n",
      "context shape : (None, 3)\n"
     ]
    }
   ],
   "source": [
    "# Input Layer 0 ===============================================================================================================\n",
    "# input shape : (nTimeSteps, nFeatures)\n",
    "layer_input_market = tf.keras.Input(shape = (nTimeStep,Feature), name = \"market_input\")\n",
    "\n",
    "# market Dense\n",
    "Transformer_market = tf.keras.layers.Dense(64, activation=\"tanh\", name = \"trans_market\")\n",
    "gru_input_marekt  = Transformer_market(layer_input_market)\n",
    "\n",
    "gru_layer_market    = tf.keras.layers.GRU(3,return_sequences = True, name = 'gru_market')(gru_input_marekt)\n",
    "attention_layer_market  = attention(name = 'attention_market')(gru_layer_market)\n",
    "output = tf.keras.layers.Dense(1)(attention_layer_market)\n",
    "model = tf.keras.Model(layer_input_market, output)\n",
    "model.compile(optimizer = 'Adam', loss = 'mse')"
   ]
  },
  {
   "cell_type": "code",
   "execution_count": 327,
   "metadata": {},
   "outputs": [
    {
     "name": "stdout",
     "output_type": "stream",
     "text": [
      "Train on 1041 samples\n",
      "(None, 10, 3)\n",
      "e   shape : (None, 10, 1)\n",
      "e   shape : (None, 10)\n",
      "alpha   shape : (None, 10)\n",
      "alpha   shape : (None, 10, 1)\n",
      "context shape : (None, 10, 3)\n",
      "context shape : (None, 3)\n",
      "(None, 10, 3)\n",
      "e   shape : (None, 10, 1)\n",
      "e   shape : (None, 10)\n",
      "alpha   shape : (None, 10)\n",
      "alpha   shape : (None, 10, 1)\n",
      "context shape : (None, 10, 3)\n",
      "context shape : (None, 3)\n",
      "1041/1041 [==============================] - 1s 1ms/sample - loss: 1.5551\n"
     ]
    },
    {
     "data": {
      "text/plain": [
       "<tensorflow.python.keras.callbacks.History at 0x198d1c1bd08>"
      ]
     },
     "execution_count": 327,
     "metadata": {},
     "output_type": "execute_result"
    }
   ],
   "source": [
    "model.fit(Train_GRU_x, np.array([Train_GRU_y[s][0] for s in range(len(Train_GRU_y))]), epochs=1)"
   ]
  },
  {
   "cell_type": "code",
   "execution_count": 200,
   "metadata": {},
   "outputs": [
    {
     "ename": "ValueError",
     "evalue": "A target array with shape (1041, 10) was passed for an output of shape (None, 1) while using as loss `mean_squared_error`. This loss expects targets to have the same shape as the output.",
     "output_type": "error",
     "traceback": [
      "\u001b[1;31m---------------------------------------------------------------------------\u001b[0m",
      "\u001b[1;31mValueError\u001b[0m                                Traceback (most recent call last)",
      "\u001b[1;32m<ipython-input-200-9b58788d27ce>\u001b[0m in \u001b[0;36m<module>\u001b[1;34m\u001b[0m\n\u001b[1;32m----> 1\u001b[1;33m \u001b[0mmodel\u001b[0m\u001b[1;33m.\u001b[0m\u001b[0mfit\u001b[0m\u001b[1;33m(\u001b[0m\u001b[0mTrain_GRU_x\u001b[0m\u001b[1;33m,\u001b[0m \u001b[0mTrain_GRU_y\u001b[0m\u001b[1;33m,\u001b[0m \u001b[0mepochs\u001b[0m\u001b[1;33m=\u001b[0m\u001b[1;36m1\u001b[0m\u001b[1;33m)\u001b[0m\u001b[1;33m\u001b[0m\u001b[1;33m\u001b[0m\u001b[0m\n\u001b[0m",
      "\u001b[1;32m~\\Anaconda3\\lib\\site-packages\\tensorflow_core\\python\\keras\\engine\\training.py\u001b[0m in \u001b[0;36mfit\u001b[1;34m(self, x, y, batch_size, epochs, verbose, callbacks, validation_split, validation_data, shuffle, class_weight, sample_weight, initial_epoch, steps_per_epoch, validation_steps, validation_freq, max_queue_size, workers, use_multiprocessing, **kwargs)\u001b[0m\n\u001b[0;32m    817\u001b[0m         \u001b[0mmax_queue_size\u001b[0m\u001b[1;33m=\u001b[0m\u001b[0mmax_queue_size\u001b[0m\u001b[1;33m,\u001b[0m\u001b[1;33m\u001b[0m\u001b[1;33m\u001b[0m\u001b[0m\n\u001b[0;32m    818\u001b[0m         \u001b[0mworkers\u001b[0m\u001b[1;33m=\u001b[0m\u001b[0mworkers\u001b[0m\u001b[1;33m,\u001b[0m\u001b[1;33m\u001b[0m\u001b[1;33m\u001b[0m\u001b[0m\n\u001b[1;32m--> 819\u001b[1;33m         use_multiprocessing=use_multiprocessing)\n\u001b[0m\u001b[0;32m    820\u001b[0m \u001b[1;33m\u001b[0m\u001b[0m\n\u001b[0;32m    821\u001b[0m   def evaluate(self,\n",
      "\u001b[1;32m~\\Anaconda3\\lib\\site-packages\\tensorflow_core\\python\\keras\\engine\\training_v2.py\u001b[0m in \u001b[0;36mfit\u001b[1;34m(self, model, x, y, batch_size, epochs, verbose, callbacks, validation_split, validation_data, shuffle, class_weight, sample_weight, initial_epoch, steps_per_epoch, validation_steps, validation_freq, max_queue_size, workers, use_multiprocessing, **kwargs)\u001b[0m\n\u001b[0;32m    233\u001b[0m           \u001b[0mmax_queue_size\u001b[0m\u001b[1;33m=\u001b[0m\u001b[0mmax_queue_size\u001b[0m\u001b[1;33m,\u001b[0m\u001b[1;33m\u001b[0m\u001b[1;33m\u001b[0m\u001b[0m\n\u001b[0;32m    234\u001b[0m           \u001b[0mworkers\u001b[0m\u001b[1;33m=\u001b[0m\u001b[0mworkers\u001b[0m\u001b[1;33m,\u001b[0m\u001b[1;33m\u001b[0m\u001b[1;33m\u001b[0m\u001b[0m\n\u001b[1;32m--> 235\u001b[1;33m           use_multiprocessing=use_multiprocessing)\n\u001b[0m\u001b[0;32m    236\u001b[0m \u001b[1;33m\u001b[0m\u001b[0m\n\u001b[0;32m    237\u001b[0m       \u001b[0mtotal_samples\u001b[0m \u001b[1;33m=\u001b[0m \u001b[0m_get_total_number_of_samples\u001b[0m\u001b[1;33m(\u001b[0m\u001b[0mtraining_data_adapter\u001b[0m\u001b[1;33m)\u001b[0m\u001b[1;33m\u001b[0m\u001b[1;33m\u001b[0m\u001b[0m\n",
      "\u001b[1;32m~\\Anaconda3\\lib\\site-packages\\tensorflow_core\\python\\keras\\engine\\training_v2.py\u001b[0m in \u001b[0;36m_process_training_inputs\u001b[1;34m(model, x, y, batch_size, epochs, sample_weights, class_weights, steps_per_epoch, validation_split, validation_data, validation_steps, shuffle, distribution_strategy, max_queue_size, workers, use_multiprocessing)\u001b[0m\n\u001b[0;32m    591\u001b[0m         \u001b[0mmax_queue_size\u001b[0m\u001b[1;33m=\u001b[0m\u001b[0mmax_queue_size\u001b[0m\u001b[1;33m,\u001b[0m\u001b[1;33m\u001b[0m\u001b[1;33m\u001b[0m\u001b[0m\n\u001b[0;32m    592\u001b[0m         \u001b[0mworkers\u001b[0m\u001b[1;33m=\u001b[0m\u001b[0mworkers\u001b[0m\u001b[1;33m,\u001b[0m\u001b[1;33m\u001b[0m\u001b[1;33m\u001b[0m\u001b[0m\n\u001b[1;32m--> 593\u001b[1;33m         use_multiprocessing=use_multiprocessing)\n\u001b[0m\u001b[0;32m    594\u001b[0m     \u001b[0mval_adapter\u001b[0m \u001b[1;33m=\u001b[0m \u001b[1;32mNone\u001b[0m\u001b[1;33m\u001b[0m\u001b[1;33m\u001b[0m\u001b[0m\n\u001b[0;32m    595\u001b[0m     \u001b[1;32mif\u001b[0m \u001b[0mvalidation_data\u001b[0m\u001b[1;33m:\u001b[0m\u001b[1;33m\u001b[0m\u001b[1;33m\u001b[0m\u001b[0m\n",
      "\u001b[1;32m~\\Anaconda3\\lib\\site-packages\\tensorflow_core\\python\\keras\\engine\\training_v2.py\u001b[0m in \u001b[0;36m_process_inputs\u001b[1;34m(model, mode, x, y, batch_size, epochs, sample_weights, class_weights, shuffle, steps, distribution_strategy, max_queue_size, workers, use_multiprocessing)\u001b[0m\n\u001b[0;32m    644\u001b[0m     \u001b[0mstandardize_function\u001b[0m \u001b[1;33m=\u001b[0m \u001b[1;32mNone\u001b[0m\u001b[1;33m\u001b[0m\u001b[1;33m\u001b[0m\u001b[0m\n\u001b[0;32m    645\u001b[0m     x, y, sample_weights = standardize(\n\u001b[1;32m--> 646\u001b[1;33m         x, y, sample_weight=sample_weights)\n\u001b[0m\u001b[0;32m    647\u001b[0m   \u001b[1;32melif\u001b[0m \u001b[0madapter_cls\u001b[0m \u001b[1;32mis\u001b[0m \u001b[0mdata_adapter\u001b[0m\u001b[1;33m.\u001b[0m\u001b[0mListsOfScalarsDataAdapter\u001b[0m\u001b[1;33m:\u001b[0m\u001b[1;33m\u001b[0m\u001b[1;33m\u001b[0m\u001b[0m\n\u001b[0;32m    648\u001b[0m     \u001b[0mstandardize_function\u001b[0m \u001b[1;33m=\u001b[0m \u001b[0mstandardize\u001b[0m\u001b[1;33m\u001b[0m\u001b[1;33m\u001b[0m\u001b[0m\n",
      "\u001b[1;32m~\\Anaconda3\\lib\\site-packages\\tensorflow_core\\python\\keras\\engine\\training.py\u001b[0m in \u001b[0;36m_standardize_user_data\u001b[1;34m(self, x, y, sample_weight, class_weight, batch_size, check_steps, steps_name, steps, validation_split, shuffle, extract_tensors_from_dataset)\u001b[0m\n\u001b[0;32m   2381\u001b[0m         \u001b[0mis_dataset\u001b[0m\u001b[1;33m=\u001b[0m\u001b[0mis_dataset\u001b[0m\u001b[1;33m,\u001b[0m\u001b[1;33m\u001b[0m\u001b[1;33m\u001b[0m\u001b[0m\n\u001b[0;32m   2382\u001b[0m         \u001b[0mclass_weight\u001b[0m\u001b[1;33m=\u001b[0m\u001b[0mclass_weight\u001b[0m\u001b[1;33m,\u001b[0m\u001b[1;33m\u001b[0m\u001b[1;33m\u001b[0m\u001b[0m\n\u001b[1;32m-> 2383\u001b[1;33m         batch_size=batch_size)\n\u001b[0m\u001b[0;32m   2384\u001b[0m \u001b[1;33m\u001b[0m\u001b[0m\n\u001b[0;32m   2385\u001b[0m   def _standardize_tensors(self, x, y, sample_weight, run_eagerly, dict_inputs,\n",
      "\u001b[1;32m~\\Anaconda3\\lib\\site-packages\\tensorflow_core\\python\\keras\\engine\\training.py\u001b[0m in \u001b[0;36m_standardize_tensors\u001b[1;34m(self, x, y, sample_weight, run_eagerly, dict_inputs, is_dataset, class_weight, batch_size)\u001b[0m\n\u001b[0;32m   2487\u001b[0m           \u001b[1;31m# Additional checks to avoid users mistakenly using improper loss fns.\u001b[0m\u001b[1;33m\u001b[0m\u001b[1;33m\u001b[0m\u001b[1;33m\u001b[0m\u001b[0m\n\u001b[0;32m   2488\u001b[0m           training_utils.check_loss_and_target_compatibility(\n\u001b[1;32m-> 2489\u001b[1;33m               y, self._feed_loss_fns, feed_output_shapes)\n\u001b[0m\u001b[0;32m   2490\u001b[0m \u001b[1;33m\u001b[0m\u001b[0m\n\u001b[0;32m   2491\u001b[0m       sample_weights, _, _ = training_utils.handle_partial_sample_weights(\n",
      "\u001b[1;32m~\\Anaconda3\\lib\\site-packages\\tensorflow_core\\python\\keras\\engine\\training_utils.py\u001b[0m in \u001b[0;36mcheck_loss_and_target_compatibility\u001b[1;34m(targets, loss_fns, output_shapes)\u001b[0m\n\u001b[0;32m    808\u001b[0m           raise ValueError('A target array with shape ' + str(y.shape) +\n\u001b[0;32m    809\u001b[0m                            \u001b[1;34m' was passed for an output of shape '\u001b[0m \u001b[1;33m+\u001b[0m \u001b[0mstr\u001b[0m\u001b[1;33m(\u001b[0m\u001b[0mshape\u001b[0m\u001b[1;33m)\u001b[0m \u001b[1;33m+\u001b[0m\u001b[1;33m\u001b[0m\u001b[1;33m\u001b[0m\u001b[0m\n\u001b[1;32m--> 810\u001b[1;33m                            \u001b[1;34m' while using as loss `'\u001b[0m \u001b[1;33m+\u001b[0m \u001b[0mloss_name\u001b[0m \u001b[1;33m+\u001b[0m \u001b[1;34m'`. '\u001b[0m\u001b[1;33m\u001b[0m\u001b[1;33m\u001b[0m\u001b[0m\n\u001b[0m\u001b[0;32m    811\u001b[0m                            \u001b[1;34m'This loss expects targets to have the same shape '\u001b[0m\u001b[1;33m\u001b[0m\u001b[1;33m\u001b[0m\u001b[0m\n\u001b[0;32m    812\u001b[0m                            'as the output.')\n",
      "\u001b[1;31mValueError\u001b[0m: A target array with shape (1041, 10) was passed for an output of shape (None, 1) while using as loss `mean_squared_error`. This loss expects targets to have the same shape as the output."
     ]
    }
   ],
   "source": []
  },
  {
   "cell_type": "code",
   "execution_count": 183,
   "metadata": {},
   "outputs": [
    {
     "data": {
      "text/plain": [
       "<tf.Tensor 'dense/Identity:0' shape=(None, 1) dtype=float32>"
      ]
     },
     "execution_count": 183,
     "metadata": {},
     "output_type": "execute_result"
    }
   ],
   "source": []
  },
  {
   "cell_type": "code",
   "execution_count": null,
   "metadata": {},
   "outputs": [],
   "source": []
  },
  {
   "cell_type": "markdown",
   "metadata": {},
   "source": [
    "### MultiHead Attention"
   ]
  },
  {
   "cell_type": "code",
   "execution_count": 4,
   "metadata": {},
   "outputs": [],
   "source": [
    "nTimeStep = 10\n",
    "Feature = 5\n",
    "beta = 0.1"
   ]
  },
  {
   "cell_type": "code",
   "execution_count": 23,
   "metadata": {},
   "outputs": [],
   "source": [
    "# Input Layer 0 ===============================================================================================================\n",
    "# input shape : (nTimeSteps, nFeatures)\n",
    "layer_input_market = tf.keras.Input(shape = (nTimeStep,Feature), name = \"market_input\")\n",
    "\n",
    "\n",
    "# Stock Input\n",
    "layer_input_stock_1 = tf.keras.Input(shape = (nTimeStep,Feature), name = \"stock_1_input\")\n",
    "layer_input_stock_2 = tf.keras.Input(shape = (nTimeStep,Feature), name = \"stock_2_input\")\n",
    "layer_input_stock_3 = tf.keras.Input(shape = (nTimeStep,Feature), name = \"stock_3_input\")\n",
    "\n",
    "# market Dense\n",
    "Transformer_market = tf.keras.layers.Dense(64, activation=\"tanh\", name = \"trans_market\")\n",
    "Transformer_stock  = tf.keras.layers.Dense(64, activation=\"tanh\", name = \"trans_stock\")\n",
    "\n",
    "# gru input layer\n",
    "gru_input_marekt  = Transformer_market(layer_input_market)\n",
    "gru_input_stock_1 = Transformer_stock(layer_input_stock_1)\n",
    "gru_input_stock_2 = Transformer_stock(layer_input_stock_2)\n",
    "gru_input_stock_3 = Transformer_stock(layer_input_stock_3)\n",
    "\n",
    "# lstm layer\n",
    "gru_layer_market    = tf.keras.layers.GRU(64,return_sequences = True, name = 'gru_market')(gru_input_marekt)\n",
    "gru_layer_stock_1   = tf.keras.layers.GRU(64,return_sequences = True, name = 'gru_stock_1')(gru_input_stock_1)\n",
    "gru_layer_stock_2   = tf.keras.layers.GRU(64,return_sequences = True, name = 'gru_stock_2')(gru_input_stock_2)\n",
    "gru_layer_stock_3   = tf.keras.layers.GRU(64,return_sequences = True, name = 'gru_stock_3')(gru_input_stock_3)\n",
    "\n",
    "# attention layer\n",
    "attention_layer_market  = attention(name = 'attention_market')(gru_layer_market)\n",
    "attention_layer_stock_1 = attention(name = 'attention_stock1')(gru_layer_stock_1)\n",
    "attention_layer_stock_2 = attention(name = 'attention_stock2')(gru_layer_stock_2)\n",
    "attention_layer_stock_3 = attention(name = 'attention_stock3')(gru_layer_stock_3)\n",
    "\n",
    "# beta layer\n",
    "weighted_layer_market = tf.keras.layers.Lambda(lambda x : x*beta)(attention_layer_market)\n",
    "\n",
    "# concate\n",
    "h_layer_stock_1 = tf.keras.layers.add([attention_layer_stock_1, weighted_layer_market],name = 'h_stock_1')\n",
    "h_layer_stock_2 = tf.keras.layers.add([attention_layer_stock_2, weighted_layer_market],name = 'h_stock_2')\n",
    "h_layer_stock_3 = tf.keras.layers.add([attention_layer_stock_3, weighted_layer_market],name = 'h_stock_3')\n",
    "\n",
    "# reshape layer\n",
    "reshape_layer_stock_1 = tf.keras.layers.Reshape((1, h_layer_stock_1.shape[1]), input_shape=(h_layer_stock_1.shape[1],),name = 'reshape_stock_1')(h_layer_stock_1)\n",
    "reshape_layer_stock_2 = tf.keras.layers.Reshape((1, h_layer_stock_2.shape[1]), input_shape=(h_layer_stock_2.shape[1],),name = 'reshape_stock_2')(h_layer_stock_2)\n",
    "reshape_layer_stock_3 = tf.keras.layers.Reshape((1, h_layer_stock_3.shape[1]), input_shape=(h_layer_stock_3.shape[1],),name = 'reshape_stock_3')(h_layer_stock_3)\n",
    "\n",
    "# multi level context vector\n",
    "output = tf.keras.layers.concatenate([reshape_layer_stock_1,reshape_layer_stock_2,reshape_layer_stock_3],axis=1)"
   ]
  },
  {
   "cell_type": "code",
   "execution_count": 24,
   "metadata": {},
   "outputs": [],
   "source": [
    "model = tf.keras.Model(inputs = [layer_input_market,layer_input_stock_1,layer_input_stock_2,layer_input_stock_3], outputs = output)"
   ]
  },
  {
   "cell_type": "code",
   "execution_count": 25,
   "metadata": {},
   "outputs": [
    {
     "name": "stdout",
     "output_type": "stream",
     "text": [
      "Model: \"model_2\"\n",
      "__________________________________________________________________________________________________\n",
      "Layer (type)                    Output Shape         Param #     Connected to                     \n",
      "==================================================================================================\n",
      "market_input (InputLayer)       [(None, 10, 5)]      0                                            \n",
      "__________________________________________________________________________________________________\n",
      "stock_1_input (InputLayer)      [(None, 10, 5)]      0                                            \n",
      "__________________________________________________________________________________________________\n",
      "trans_market (Dense)            (None, 10, 64)       384         market_input[0][0]               \n",
      "__________________________________________________________________________________________________\n",
      "stock_2_input (InputLayer)      [(None, 10, 5)]      0                                            \n",
      "__________________________________________________________________________________________________\n",
      "stock_3_input (InputLayer)      [(None, 10, 5)]      0                                            \n",
      "__________________________________________________________________________________________________\n",
      "trans_stock (Dense)             (None, 10, 64)       384         stock_1_input[0][0]              \n",
      "                                                                 stock_2_input[0][0]              \n",
      "                                                                 stock_3_input[0][0]              \n",
      "__________________________________________________________________________________________________\n",
      "gru_market (GRU)                (None, 10, 64)       24960       trans_market[0][0]               \n",
      "__________________________________________________________________________________________________\n",
      "gru_stock_1 (GRU)               (None, 10, 64)       24960       trans_stock[0][0]                \n",
      "__________________________________________________________________________________________________\n",
      "attention_market (attention)    (None, 64)           74          gru_market[0][0]                 \n",
      "__________________________________________________________________________________________________\n",
      "gru_stock_2 (GRU)               (None, 10, 64)       24960       trans_stock[1][0]                \n",
      "__________________________________________________________________________________________________\n",
      "gru_stock_3 (GRU)               (None, 10, 64)       24960       trans_stock[2][0]                \n",
      "__________________________________________________________________________________________________\n",
      "attention_stock1 (attention)    (None, 64)           74          gru_stock_1[0][0]                \n",
      "__________________________________________________________________________________________________\n",
      "lambda_6 (Lambda)               (None, 64)           0           attention_market[0][0]           \n",
      "__________________________________________________________________________________________________\n",
      "attention_stock2 (attention)    (None, 64)           74          gru_stock_2[0][0]                \n",
      "__________________________________________________________________________________________________\n",
      "attention_stock3 (attention)    (None, 64)           74          gru_stock_3[0][0]                \n",
      "__________________________________________________________________________________________________\n",
      "h_stock_1 (Add)                 (None, 64)           0           attention_stock1[0][0]           \n",
      "                                                                 lambda_6[0][0]                   \n",
      "__________________________________________________________________________________________________\n",
      "h_stock_2 (Add)                 (None, 64)           0           attention_stock2[0][0]           \n",
      "                                                                 lambda_6[0][0]                   \n",
      "__________________________________________________________________________________________________\n",
      "h_stock_3 (Add)                 (None, 64)           0           attention_stock3[0][0]           \n",
      "                                                                 lambda_6[0][0]                   \n",
      "__________________________________________________________________________________________________\n",
      "reshape_stock_1 (Reshape)       (None, 1, 64)        0           h_stock_1[0][0]                  \n",
      "__________________________________________________________________________________________________\n",
      "reshape_stock_2 (Reshape)       (None, 1, 64)        0           h_stock_2[0][0]                  \n",
      "__________________________________________________________________________________________________\n",
      "reshape_stock_3 (Reshape)       (None, 1, 64)        0           h_stock_3[0][0]                  \n",
      "__________________________________________________________________________________________________\n",
      "concatenate_2 (Concatenate)     (None, 3, 64)        0           reshape_stock_1[0][0]            \n",
      "                                                                 reshape_stock_2[0][0]            \n",
      "                                                                 reshape_stock_3[0][0]            \n",
      "==================================================================================================\n",
      "Total params: 100,904\n",
      "Trainable params: 100,904\n",
      "Non-trainable params: 0\n",
      "__________________________________________________________________________________________________\n"
     ]
    }
   ],
   "source": [
    "model.summary()"
   ]
  },
  {
   "cell_type": "code",
   "execution_count": 21,
   "metadata": {},
   "outputs": [
    {
     "data": {
      "image/png": "[encoded data removed]",
      "text/plain": [
       "<IPython.core.display.Image object>"
      ]
     },
     "execution_count": 21,
     "metadata": {},
     "output_type": "execute_result"
    }
   ],
   "source": [
    "tf.keras.utils.plot_model(model, to_file='model_plot1.png', show_shapes=True, show_layer_names=True)"
   ]
  }
 ],
 "metadata": {
  "kernelspec": {
   "display_name": "Python 3",
   "language": "python",
   "name": "python3"
  },
  "language_info": {
   "codemirror_mode": {
    "name": "ipython",
    "version": 3
   },
   "file_extension": ".py",
   "mimetype": "text/x-python",
   "name": "python",
   "nbconvert_exporter": "python",
   "pygments_lexer": "ipython3",
   "version": "3.7.4"
  }
 },
 "nbformat": 4,
 "nbformat_minor": 4
}
